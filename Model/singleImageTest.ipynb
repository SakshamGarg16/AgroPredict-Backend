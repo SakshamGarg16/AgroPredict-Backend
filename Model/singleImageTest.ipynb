{
 "cells": [
  {
   "cell_type": "code",
   "execution_count": 15,
   "metadata": {},
   "outputs": [],
   "source": [
    "import json\n",
    "from tensorflow.keras.preprocessing.image import load_img, img_to_array\n",
    "import numpy as np\n",
    "import joblib"
   ]
  },
  {
   "cell_type": "code",
   "execution_count": 16,
   "metadata": {},
   "outputs": [],
   "source": [
    "# Load the saved models\n",
    "svm_model = joblib.load('svm_model.pkl')\n",
    "pca = joblib.load('pca_model.pkl')\n",
    "\n",
    "# Load the base model for feature extraction\n",
    "from tensorflow.keras.applications import ResNet50\n",
    "base_model = ResNet50(weights='imagenet', include_top=False, input_shape=(128, 128, 3))\n",
    "\n",
    "# Load class indices\n",
    "with open('class_indices.json', 'r') as f:\n",
    "    class_indices = json.load(f)\n",
    "\n",
    "# Reverse class mapping and ensure integer keys\n",
    "class_indices = {int(v): k for k, v in class_indices.items()}"
   ]
  },
  {
   "cell_type": "code",
   "execution_count": 17,
   "metadata": {},
   "outputs": [],
   "source": [
    "\n",
    "# Function to predict a single image\n",
    "def predict_single_image(image_path):\n",
    "    # Step 1: Load and preprocess the image\n",
    "    image = load_img(image_path, target_size=(128, 128))  # Resize to match ResNet50 input\n",
    "    image_array = img_to_array(image) / 255.0            # Normalize pixel values\n",
    "    image_array = np.expand_dims(image_array, axis=0)    # Add batch dimension\n",
    "\n",
    "    # Step 2: Extract features using ResNet50\n",
    "    print(\"Extracting features for the image...\")\n",
    "    features = base_model.predict(image_array, verbose=0)\n",
    "    features_flattened = features.reshape(1, -1)  # Flatten the features\n",
    "\n",
    "    # Step 3: Apply PCA for dimensionality reduction\n",
    "    features_reduced = pca.transform(features_flattened)\n",
    "\n",
    "    # Step 4: Make prediction with SVM\n",
    "    prediction = svm_model.predict(features_reduced)\n",
    "    probabilities = svm_model.predict_proba(features_reduced)\n",
    "\n",
    "    # Step 5: Map prediction to class label\n",
    "    predicted_label = class_indices[prediction[0]]  # prediction[0] is an integer\n",
    "    confidence = probabilities[0][prediction[0]] * 100\n",
    "\n",
    "    return predicted_label, confidence\n",
    "\n",
    "\n"
   ]
  },
  {
   "cell_type": "code",
   "execution_count": 24,
   "metadata": {},
   "outputs": [
    {
     "name": "stdout",
     "output_type": "stream",
     "text": [
      "Extracting features for the image...\n",
      "Predicted Label: Tomato___Early_blightttttttttttttttttttttttttttttt, Confidence: 28.52%\n"
     ]
    }
   ],
   "source": [
    "# Example usage\n",
    "image_path = r\"S:\\Datasets\\Datasets\\Animal Plant Dataset\\New Plant Diseases Dataset(Augmented)\\Train\\Tomato___Early_blightttttttttttttttttttttttttttttt\\Tomato___Early_blightttttttttttttttttttttttttttttt_356.JPG\"  # Replace with your image path\n",
    "predicted_label, confidence = predict_single_image(image_path)\n",
    "print(f\"Predicted Label: {predicted_label}, Confidence: {confidence:.2f}%\")"
   ]
  }
 ],
 "metadata": {
  "kernelspec": {
   "display_name": "Python 3",
   "language": "python",
   "name": "python3"
  },
  "language_info": {
   "codemirror_mode": {
    "name": "ipython",
    "version": 3
   },
   "file_extension": ".py",
   "mimetype": "text/x-python",
   "name": "python",
   "nbconvert_exporter": "python",
   "pygments_lexer": "ipython3",
   "version": "3.11.0"
  }
 },
 "nbformat": 4,
 "nbformat_minor": 2
}
